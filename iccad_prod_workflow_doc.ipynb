{
  "cells": [
    {
      "cell_type": "markdown",
      "metadata": {
        "id": "skfT-3OVEp9N"
      },
      "source": [
        "# Code for Estimating the Ground State Energy of the Hydroxyl Cation using BQSKit\n",
        "\n",
        "This Jupyter notebook walks through the workflow of circuit synthesis and evaluation to estimate the ground state energy of the hydyoxyl radical. Note that this script will save a QASM string in your current working directory due to how the compilation process is implemented.\n",
        "\n",
        "This notebook is heavily inspired by the provided [example code](https://github.com/qccontest/QC-Contest-Demo/blob/main/examplecode.ipynb) and [noise model code](https://github.com/qccontest/QC-Contest-Demo/blob/main/NoiseModel_and_SystemModel.ipynb)."
      ]
    },
    {
      "cell_type": "markdown",
      "metadata": {
        "id": "Mb-Jm6AEFITp"
      },
      "source": [
        "## Basic Installation\n",
        "Install required packages."
      ]
    },
    {
      "cell_type": "code",
      "execution_count": null,
      "metadata": {
        "colab": {
          "base_uri": "https://localhost:8080/"
        },
        "id": "7LtsQwVBdPrt",
        "outputId": "b167ebc9-ea48-4f8e-8c75-67fe0fd932e8"
      },
      "outputs": [
        {
          "name": "stdout",
          "output_type": "stream",
          "text": [
            "Collecting qiskit\n",
            "  Downloading qiskit-0.44.1-py3-none-any.whl (8.2 kB)\n",
            "Collecting qiskit-terra==0.25.1 (from qiskit)\n",
            "  Downloading qiskit_terra-0.25.1-cp38-abi3-manylinux_2_17_x86_64.manylinux2014_x86_64.whl (6.1 MB)\n",
            "\u001b[2K     \u001b[90m━━━━━━━━━━━━━━━━━━━━━━━━━━━━━━━━━━━━━━━━\u001b[0m \u001b[32m6.1/6.1 MB\u001b[0m \u001b[31m12.1 MB/s\u001b[0m eta \u001b[36m0:00:00\u001b[0m\n",
            "\u001b[?25hCollecting rustworkx>=0.13.0 (from qiskit-terra==0.25.1->qiskit)\n",
            "  Downloading rustworkx-0.13.1-cp310-cp310-manylinux_2_17_x86_64.manylinux2014_x86_64.whl (2.0 MB)\n",
            "\u001b[2K     \u001b[90m━━━━━━━━━━━━━━━━━━━━━━━━━━━━━━━━━━━━━━━━\u001b[0m \u001b[32m2.0/2.0 MB\u001b[0m \u001b[31m29.9 MB/s\u001b[0m eta \u001b[36m0:00:00\u001b[0m\n",
            "\u001b[?25hRequirement already satisfied: numpy>=1.17 in /usr/local/lib/python3.10/dist-packages (from qiskit-terra==0.25.1->qiskit) (1.23.5)\n",
            "Collecting ply>=3.10 (from qiskit-terra==0.25.1->qiskit)\n",
            "  Downloading ply-3.11-py2.py3-none-any.whl (49 kB)\n",
            "\u001b[2K     \u001b[90m━━━━━━━━━━━━━━━━━━━━━━━━━━━━━━━━━━━━━━━━\u001b[0m \u001b[32m49.6/49.6 kB\u001b[0m \u001b[31m9.8 MB/s\u001b[0m eta \u001b[36m0:00:00\u001b[0m\n",
            "\u001b[?25hRequirement already satisfied: psutil>=5 in /usr/local/lib/python3.10/dist-packages (from qiskit-terra==0.25.1->qiskit) (5.9.5)\n",
            "Requirement already satisfied: scipy>=1.5 in /usr/local/lib/python3.10/dist-packages (from qiskit-terra==0.25.1->qiskit) (1.11.2)\n",
            "Requirement already satisfied: sympy>=1.3 in /usr/local/lib/python3.10/dist-packages (from qiskit-terra==0.25.1->qiskit) (1.12)\n",
            "Collecting dill>=0.3 (from qiskit-terra==0.25.1->qiskit)\n",
            "  Downloading dill-0.3.7-py3-none-any.whl (115 kB)\n",
            "\u001b[2K     \u001b[90m━━━━━━━━━━━━━━━━━━━━━━━━━━━━━━━━━━━━━━\u001b[0m \u001b[32m115.3/115.3 kB\u001b[0m \u001b[31m20.9 MB/s\u001b[0m eta \u001b[36m0:00:00\u001b[0m\n",
            "\u001b[?25hRequirement already satisfied: python-dateutil>=2.8.0 in /usr/local/lib/python3.10/dist-packages (from qiskit-terra==0.25.1->qiskit) (2.8.2)\n",
            "Collecting stevedore>=3.0.0 (from qiskit-terra==0.25.1->qiskit)\n",
            "  Downloading stevedore-5.1.0-py3-none-any.whl (49 kB)\n",
            "\u001b[2K     \u001b[90m━━━━━━━━━━━━━━━━━━━━━━━━━━━━━━━━━━━━━━━━\u001b[0m \u001b[32m49.6/49.6 kB\u001b[0m \u001b[31m9.6 MB/s\u001b[0m eta \u001b[36m0:00:00\u001b[0m\n",
            "\u001b[?25hCollecting symengine<0.10,>=0.9 (from qiskit-terra==0.25.1->qiskit)\n",
            "  Downloading symengine-0.9.2-cp310-cp310-manylinux2010_x86_64.whl (37.5 MB)\n",
            "\u001b[2K     \u001b[90m━━━━━━━━━━━━━━━━━━━━━━━━━━━━━━━━━━━━━━━━\u001b[0m \u001b[32m37.5/37.5 MB\u001b[0m \u001b[31m45.2 MB/s\u001b[0m eta \u001b[36m0:00:00\u001b[0m\n",
            "\u001b[?25hRequirement already satisfied: typing-extensions in /usr/local/lib/python3.10/dist-packages (from qiskit-terra==0.25.1->qiskit) (4.5.0)\n",
            "Requirement already satisfied: six>=1.5 in /usr/local/lib/python3.10/dist-packages (from python-dateutil>=2.8.0->qiskit-terra==0.25.1->qiskit) (1.16.0)\n",
            "Collecting pbr!=2.1.0,>=2.0.0 (from stevedore>=3.0.0->qiskit-terra==0.25.1->qiskit)\n",
            "  Downloading pbr-5.11.1-py2.py3-none-any.whl (112 kB)\n",
            "\u001b[2K     \u001b[90m━━━━━━━━━━━━━━━━━━━━━━━━━━━━━━━━━━━━━━\u001b[0m \u001b[32m112.7/112.7 kB\u001b[0m \u001b[31m16.5 MB/s\u001b[0m eta \u001b[36m0:00:00\u001b[0m\n",
            "\u001b[?25hRequirement already satisfied: mpmath>=0.19 in /usr/local/lib/python3.10/dist-packages (from sympy>=1.3->qiskit-terra==0.25.1->qiskit) (1.3.0)\n",
            "Installing collected packages: ply, symengine, rustworkx, pbr, dill, stevedore, qiskit-terra, qiskit\n",
            "Successfully installed dill-0.3.7 pbr-5.11.1 ply-3.11 qiskit-0.44.1 qiskit-terra-0.25.1 rustworkx-0.13.1 stevedore-5.1.0 symengine-0.9.2\n",
            "Collecting qiskit-nature[pyscf]\n",
            "  Downloading qiskit_nature-0.6.2-py3-none-any.whl (4.1 MB)\n",
            "\u001b[2K     \u001b[90m━━━━━━━━━━━━━━━━━━━━━━━━━━━━━━━━━━━━━━━━\u001b[0m \u001b[32m4.1/4.1 MB\u001b[0m \u001b[31m36.0 MB/s\u001b[0m eta \u001b[36m0:00:00\u001b[0m\n",
            "\u001b[?25hRequirement already satisfied: qiskit-terra>=0.24 in /usr/local/lib/python3.10/dist-packages (from qiskit-nature[pyscf]) (0.25.1)\n",
            "Requirement already satisfied: scipy>=1.4 in /usr/local/lib/python3.10/dist-packages (from qiskit-nature[pyscf]) (1.11.2)\n",
            "Requirement already satisfied: numpy>=1.17 in /usr/local/lib/python3.10/dist-packages (from qiskit-nature[pyscf]) (1.23.5)\n",
            "Requirement already satisfied: psutil>=5 in /usr/local/lib/python3.10/dist-packages (from qiskit-nature[pyscf]) (5.9.5)\n",
            "Requirement already satisfied: scikit-learn>=0.20.0 in /usr/local/lib/python3.10/dist-packages (from qiskit-nature[pyscf]) (1.2.2)\n",
            "Requirement already satisfied: setuptools>=40.1.0 in /usr/local/lib/python3.10/dist-packages (from qiskit-nature[pyscf]) (67.7.2)\n",
            "Requirement already satisfied: typing-extensions in /usr/local/lib/python3.10/dist-packages (from qiskit-nature[pyscf]) (4.5.0)\n",
            "Requirement already satisfied: h5py in /usr/local/lib/python3.10/dist-packages (from qiskit-nature[pyscf]) (3.9.0)\n",
            "Requirement already satisfied: rustworkx in /usr/local/lib/python3.10/dist-packages (from qiskit-nature[pyscf]) (0.13.1)\n",
            "Collecting pyscf (from qiskit-nature[pyscf])\n",
            "  Downloading pyscf-2.3.0-cp310-cp310-manylinux_2_17_x86_64.manylinux2014_x86_64.whl (47.2 MB)\n",
            "\u001b[2K     \u001b[90m━━━━━━━━━━━━━━━━━━━━━━━━━━━━━━━━━━━━━━━━\u001b[0m \u001b[32m47.2/47.2 MB\u001b[0m \u001b[31m33.3 MB/s\u001b[0m eta \u001b[36m0:00:00\u001b[0m\n",
            "\u001b[?25hRequirement already satisfied: ply>=3.10 in /usr/local/lib/python3.10/dist-packages (from qiskit-terra>=0.24->qiskit-nature[pyscf]) (3.11)\n",
            "Requirement already satisfied: sympy>=1.3 in /usr/local/lib/python3.10/dist-packages (from qiskit-terra>=0.24->qiskit-nature[pyscf]) (1.12)\n",
            "Requirement already satisfied: dill>=0.3 in /usr/local/lib/python3.10/dist-packages (from qiskit-terra>=0.24->qiskit-nature[pyscf]) (0.3.7)\n",
            "Requirement already satisfied: python-dateutil>=2.8.0 in /usr/local/lib/python3.10/dist-packages (from qiskit-terra>=0.24->qiskit-nature[pyscf]) (2.8.2)\n",
            "Requirement already satisfied: stevedore>=3.0.0 in /usr/local/lib/python3.10/dist-packages (from qiskit-terra>=0.24->qiskit-nature[pyscf]) (5.1.0)\n",
            "Requirement already satisfied: symengine<0.10,>=0.9 in /usr/local/lib/python3.10/dist-packages (from qiskit-terra>=0.24->qiskit-nature[pyscf]) (0.9.2)\n",
            "Requirement already satisfied: joblib>=1.1.1 in /usr/local/lib/python3.10/dist-packages (from scikit-learn>=0.20.0->qiskit-nature[pyscf]) (1.3.2)\n",
            "Requirement already satisfied: threadpoolctl>=2.0.0 in /usr/local/lib/python3.10/dist-packages (from scikit-learn>=0.20.0->qiskit-nature[pyscf]) (3.2.0)\n",
            "Requirement already satisfied: six>=1.5 in /usr/local/lib/python3.10/dist-packages (from python-dateutil>=2.8.0->qiskit-terra>=0.24->qiskit-nature[pyscf]) (1.16.0)\n",
            "Requirement already satisfied: pbr!=2.1.0,>=2.0.0 in /usr/local/lib/python3.10/dist-packages (from stevedore>=3.0.0->qiskit-terra>=0.24->qiskit-nature[pyscf]) (5.11.1)\n",
            "Requirement already satisfied: mpmath>=0.19 in /usr/local/lib/python3.10/dist-packages (from sympy>=1.3->qiskit-terra>=0.24->qiskit-nature[pyscf]) (1.3.0)\n",
            "Installing collected packages: pyscf, qiskit-nature\n",
            "Successfully installed pyscf-2.3.0 qiskit-nature-0.6.2\n"
          ]
        }
      ],
      "source": [
        "!pip install qiskit\n",
        "!pip install qiskit-nature[pyscf] -U"
      ]
    },
    {
      "cell_type": "code",
      "execution_count": null,
      "metadata": {
        "colab": {
          "base_uri": "https://localhost:8080/"
        },
        "id": "By2v8KlslcSy",
        "outputId": "cd2cbcf6-a37e-44e9-c093-b9ed73853fd2"
      },
      "outputs": [
        {
          "name": "stdout",
          "output_type": "stream",
          "text": [
            "Collecting qiskit_aer\n",
            "  Downloading qiskit_aer-0.12.2-cp310-cp310-manylinux_2_17_x86_64.manylinux2014_x86_64.whl (12.8 MB)\n",
            "\u001b[2K     \u001b[90m━━━━━━━━━━━━━━━━━━━━━━━━━━━━━━━━━━━━━━━━\u001b[0m \u001b[32m12.8/12.8 MB\u001b[0m \u001b[31m89.4 MB/s\u001b[0m eta \u001b[36m0:00:00\u001b[0m\n",
            "\u001b[?25hRequirement already satisfied: qiskit-terra>=0.21.0 in /usr/local/lib/python3.10/dist-packages (from qiskit_aer) (0.25.1)\n",
            "Requirement already satisfied: numpy>=1.16.3 in /usr/local/lib/python3.10/dist-packages (from qiskit_aer) (1.23.5)\n",
            "Requirement already satisfied: scipy>=1.0 in /usr/local/lib/python3.10/dist-packages (from qiskit_aer) (1.11.2)\n",
            "Requirement already satisfied: rustworkx>=0.13.0 in /usr/local/lib/python3.10/dist-packages (from qiskit-terra>=0.21.0->qiskit_aer) (0.13.1)\n",
            "Requirement already satisfied: ply>=3.10 in /usr/local/lib/python3.10/dist-packages (from qiskit-terra>=0.21.0->qiskit_aer) (3.11)\n",
            "Requirement already satisfied: psutil>=5 in /usr/local/lib/python3.10/dist-packages (from qiskit-terra>=0.21.0->qiskit_aer) (5.9.5)\n",
            "Requirement already satisfied: sympy>=1.3 in /usr/local/lib/python3.10/dist-packages (from qiskit-terra>=0.21.0->qiskit_aer) (1.12)\n",
            "Requirement already satisfied: dill>=0.3 in /usr/local/lib/python3.10/dist-packages (from qiskit-terra>=0.21.0->qiskit_aer) (0.3.7)\n",
            "Requirement already satisfied: python-dateutil>=2.8.0 in /usr/local/lib/python3.10/dist-packages (from qiskit-terra>=0.21.0->qiskit_aer) (2.8.2)\n",
            "Requirement already satisfied: stevedore>=3.0.0 in /usr/local/lib/python3.10/dist-packages (from qiskit-terra>=0.21.0->qiskit_aer) (5.1.0)\n",
            "Requirement already satisfied: symengine<0.10,>=0.9 in /usr/local/lib/python3.10/dist-packages (from qiskit-terra>=0.21.0->qiskit_aer) (0.9.2)\n",
            "Requirement already satisfied: typing-extensions in /usr/local/lib/python3.10/dist-packages (from qiskit-terra>=0.21.0->qiskit_aer) (4.5.0)\n",
            "Requirement already satisfied: six>=1.5 in /usr/local/lib/python3.10/dist-packages (from python-dateutil>=2.8.0->qiskit-terra>=0.21.0->qiskit_aer) (1.16.0)\n",
            "Requirement already satisfied: pbr!=2.1.0,>=2.0.0 in /usr/local/lib/python3.10/dist-packages (from stevedore>=3.0.0->qiskit-terra>=0.21.0->qiskit_aer) (5.11.1)\n",
            "Requirement already satisfied: mpmath>=0.19 in /usr/local/lib/python3.10/dist-packages (from sympy>=1.3->qiskit-terra>=0.21.0->qiskit_aer) (1.3.0)\n",
            "Installing collected packages: qiskit_aer\n",
            "Successfully installed qiskit_aer-0.12.2\n"
          ]
        }
      ],
      "source": [
        "!pip install qiskit_aer"
      ]
    },
    {
      "cell_type": "code",
      "execution_count": null,
      "metadata": {
        "colab": {
          "base_uri": "https://localhost:8080/"
        },
        "id": "2dsDN9fZlgma",
        "outputId": "0d2c41aa-eb95-4a84-df9b-d07a796c7362"
      },
      "outputs": [
        {
          "name": "stdout",
          "output_type": "stream",
          "text": [
            "Collecting bqskit\n",
            "  Downloading bqskit-1.1.0-py3-none-any.whl (396 kB)\n",
            "\u001b[2K     \u001b[90m━━━━━━━━━━━━━━━━━━━━━━━━━━━━━━━━━━━━━━━\u001b[0m \u001b[32m396.3/396.3 kB\u001b[0m \u001b[31m6.7 MB/s\u001b[0m eta \u001b[36m0:00:00\u001b[0m\n",
            "\u001b[?25hCollecting bqskitrs>=0.4.0 (from bqskit)\n",
            "  Downloading bqskitrs-0.4.0-cp38-abi3-manylinux_2_17_x86_64.manylinux2014_x86_64.whl (39.7 MB)\n",
            "\u001b[2K     \u001b[90m━━━━━━━━━━━━━━━━━━━━━━━━━━━━━━━━━━━━━━━━\u001b[0m \u001b[32m39.7/39.7 MB\u001b[0m \u001b[31m29.3 MB/s\u001b[0m eta \u001b[36m0:00:00\u001b[0m\n",
            "\u001b[?25hCollecting lark-parser (from bqskit)\n",
            "  Downloading lark_parser-0.12.0-py2.py3-none-any.whl (103 kB)\n",
            "\u001b[2K     \u001b[90m━━━━━━━━━━━━━━━━━━━━━━━━━━━━━━━━━━━━━━\u001b[0m \u001b[32m103.5/103.5 kB\u001b[0m \u001b[31m17.2 MB/s\u001b[0m eta \u001b[36m0:00:00\u001b[0m\n",
            "\u001b[?25hRequirement already satisfied: numpy>=1.22.0 in /usr/local/lib/python3.10/dist-packages (from bqskit) (1.23.5)\n",
            "Requirement already satisfied: scipy>=1.8.0 in /usr/local/lib/python3.10/dist-packages (from bqskit) (1.11.2)\n",
            "Requirement already satisfied: typing-extensions>=4.0.0 in /usr/local/lib/python3.10/dist-packages (from bqskit) (4.5.0)\n",
            "Installing collected packages: lark-parser, bqskitrs, bqskit\n",
            "Successfully installed bqskit-1.1.0 bqskitrs-0.4.0 lark-parser-0.12.0\n"
          ]
        }
      ],
      "source": [
        "!pip install bqskit"
      ]
    },
    {
      "cell_type": "code",
      "execution_count": null,
      "metadata": {
        "id": "EhXg54Z1lku8"
      },
      "outputs": [],
      "source": [
        "# Used for modeling the hydroxyl radical\n",
        "from qiskit_nature.units import DistanceUnit\n",
        "from qiskit_nature.second_q.drivers import PySCFDriver\n",
        "from qiskit_nature.second_q.mappers import JordanWignerMapper,ParityMapper,QubitConverter\n",
        "\n",
        "# Used for VQE\n",
        "from qiskit.algorithms.minimum_eigensolvers import VQE\n",
        "from qiskit.algorithms.optimizers import SLSQP\n",
        "from qiskit_aer.primitives import Estimator\n",
        "from qiskit_nature.second_q.circuit.library import HartreeFock, UCCSD\n",
        "from qiskit.algorithms.minimum_eigensolvers import NumPyMinimumEigensolver\n",
        "from qiskit_nature.second_q.algorithms import GroundStateEigensolver\n",
        "\n",
        "# Used for transpilation and circuit modeling in Qiskit\n",
        "import numpy as np\n",
        "import pylab\n",
        "import qiskit.providers\n",
        "from qiskit import Aer,pulse, QuantumCircuit, transpile\n",
        "from qiskit.utils import QuantumInstance, algorithm_globals\n",
        "import time\n",
        "\n",
        "# Used for circuit synthesis and optimization\n",
        "from bqskit import compile, Circuit\n",
        "\n",
        "# Used for converting the provided Hamiltonian file into\n",
        "# a usable Pauli representation\n",
        "from qiskit.quantum_info import SparsePauliOp\n",
        "\n",
        "# Used for noise modeling\n",
        "from qiskit.providers.aer.noise import NoiseModel\n",
        "import qiskit.providers.aer.noise as noise\n",
        "\n",
        "# Used for quantum hardware backend\n",
        "from qiskit.providers.fake_provider import *\n",
        "\n",
        "# Used for reading noise model files\n",
        "import pickle"
      ]
    },
    {
      "cell_type": "markdown",
      "metadata": {
        "id": "X9GCNYYJHmz6"
      },
      "source": [
        "## Initialize Configuration Variables\n",
        "Here, the user can set the seed to use, the number of shots used throughout the workflow, and the paths to the noise model and Hamiltonian.\n",
        "\n",
        "For reproducibility, the user should provide a path to one of the [provided noise models](https://github.com/qccontest/QC-Contest-Demo/tree/main/NoiseModel) and to the [provided Hamiltonian file](https://github.com/qccontest/QC-Contest-Demo/blob/main/Hamiltonian/OHhamiltonian.txt).\n",
        "\n",
        "Note that the noise model name is purely used for the filename which stores an intermediate QASM string in the current working directory as part of the compilation process."
      ]
    },
    {
      "cell_type": "code",
      "execution_count": null,
      "metadata": {
        "id": "sirxCvjdlxG3"
      },
      "outputs": [],
      "source": [
        "# Set the seed used throughout the workflow.\n",
        "seed = 20\n",
        "algorithm_globals.random_seed = seed\n",
        "seed_transpiler = seed\n",
        "\n",
        "# Set the number of shots used throughout the workflow.\n",
        "shots = 2852\n",
        "\n",
        "# Sets the noise model name, which is used for saving a QASM file\n",
        "# in the current working directory.\n",
        "noisemodel_name = 'fakekolkata'\n",
        "\n",
        "# Set the noise model used in the workflow.\n",
        "noisemodel_path = './NoiseModel/' + noisemodel_name + '.pkl'\n",
        "\n",
        "\n",
        "# Sets the hamiltonian used in the workflow.\n",
        "hamiltonian_file_path = './Hamiltonian/OHhamiltonian.txt'"
      ]
    },
    {
      "cell_type": "markdown",
      "metadata": {
        "id": "T85rbIKkIubo"
      },
      "source": [
        "## Generate Hamiltonian and Pauli String\n",
        "\n",
        "The code sets up PySCF to generate the hamiltonian of the hydroxyl cation with the basis function as 'sto3g' to fit the spin orbital, and then uses the JordanWignerMapper to map the Fermionic terms to Pauli strings.\n",
        "\n",
        "Note: this code reads the Hamiltonian from the 'hamiltonian_file_path' when it needs to evaluate the correctness of the circuit."
      ]
    },
    {
      "cell_type": "code",
      "execution_count": null,
      "metadata": {
        "colab": {
          "base_uri": "https://localhost:8080/"
        },
        "id": "pRwjDst_mNLL",
        "outputId": "b116a3ab-faa4-4e8e-de98-ac3e6029d826"
      },
      "outputs": [
        {
          "name": "stderr",
          "output_type": "stream",
          "text": [
            "/usr/local/lib/python3.10/dist-packages/pyscf/dft/libxc.py:772: UserWarning: Since PySCF-2.3, B3LYP (and B3P86) are changed to the VWN-RPA variant, the same to the B3LYP functional in Gaussian and ORCA (issue 1480). To restore the VWN5 definition, you can put the setting \"B3LYP_WITH_VWN5 = True\" in pyscf_conf.py\n",
            "  warnings.warn('Since PySCF-2.3, B3LYP (and B3P86) are changed to the VWN-RPA variant, '\n"
          ]
        }
      ],
      "source": [
        "# Define a string representing a simplified molecular structure of Alanine,\n",
        "# specifying the coordinates of Oxygen (O) and Hydrogen (H) atoms.\n",
        "ultra_simplified_ala_string = \"\"\"\n",
        "O 0.0 0.0 0.0\n",
        "H 0.45 -0.1525 -0.8454\n",
        "\"\"\"\n",
        "\n",
        "# Create a PySCF Driver for the hydroxyl cation using the 'sto3g' basis\n",
        "# function to fit the spin orbital.\n",
        "driver = PySCFDriver(\n",
        "    atom=ultra_simplified_ala_string.strip(),\n",
        "    basis='sto3g',\n",
        "    charge=1,\n",
        "    spin=0,\n",
        "    unit=DistanceUnit.ANGSTROM\n",
        ")\n",
        "\n",
        "# Obtain a qmolecule containing molecular information generated by the driver.\n",
        "qmolecule = driver.run()"
      ]
    },
    {
      "cell_type": "code",
      "execution_count": null,
      "metadata": {
        "colab": {
          "base_uri": "https://localhost:8080/"
        },
        "id": "kc1Cqx1ymWa1",
        "outputId": "ae572926-1cf8-4474-ea49-c017f62df8ac"
      },
      "outputs": [
        {
          "name": "stdout",
          "output_type": "stream",
          "text": [
            "Polynomial Tensor\n",
            " \"+-\":\n",
            "[[-3.21461222e+01  5.59899100e-01  1.87617178e-01  3.74538735e-16\n",
            "   6.19498212e-16 -1.94702445e-01]\n",
            " [ 5.59899100e-01 -7.35898345e+00 -2.46352634e-01 -9.87250577e-16\n",
            "  -1.62475968e-15  9.51226718e-01]\n",
            " [ 1.87617178e-01 -2.46352634e-01 -6.56995119e+00  3.42558853e-15\n",
            "   3.68881527e-15 -1.09726793e+00]\n",
            " [ 3.75150523e-16 -1.00302259e-15  3.31209337e-15 -6.94886145e+00\n",
            "  -5.86603488e-16 -1.24551876e-15]\n",
            " [ 6.18412765e-16 -1.57506805e-15  4.06262679e-15 -4.56444076e-16\n",
            "  -6.94886145e+00 -3.85804477e-15]\n",
            " [-1.94702445e-01  9.51226718e-01 -1.09726793e+00 -1.14788360e-15\n",
            "  -4.58668558e-15 -4.64967973e+00]]\n",
            " \"++--\":\n",
            "[[[[ 4.74977044e+00 -4.38465691e-01 -1.51436760e-01 -3.01805209e-16\n",
            "    -4.70660215e-16  1.59790984e-01]\n",
            "   [-4.38465691e-01  6.47204045e-02  1.84429506e-02  3.96633254e-17\n",
            "     7.05655955e-17 -2.66865302e-02]\n",
            "   [-1.51436760e-01  1.84429506e-02  2.46189939e-02 -1.27230283e-17\n",
            "    -2.00835315e-17  6.40512562e-03]\n",
            "   [-3.01807372e-16  3.98690260e-17 -1.30785276e-17  2.58536922e-02\n",
            "     7.49837282e-19  7.48277786e-18]\n",
            "   [-4.70533329e-16  6.98099331e-17 -2.17183168e-17  9.60165815e-19\n",
            "     2.58536922e-02  2.15758743e-17]\n",
            "   [ 1.59790984e-01 -2.66865302e-02  6.40512562e-03  8.26879737e-18\n",
            "     2.10382196e-17  2.11708054e-02]]\n",
            "\n",
            "  [[-4.38465691e-01  6.47204045e-02  1.84429506e-02  3.95607545e-17\n",
            "     6.98829853e-17 -2.66865302e-02]\n",
            "   [ 1.06368185e+00 -1.50469869e-02 -1.72330627e-02 -2.62895946e-17\n",
            "    -1.85309728e-17 -2.69295995e-03]\n",
            "   [ 8.78369520e-02 -9.36020789e-03  2.16452114e-02 -3.78136610e-17\n",
            "    -5.38661599e-17  2.03747148e-02]\n",
            "   [ 2.71411040e-16 -1.73820202e-17 -3.75606695e-17  3.38081759e-02\n",
            "     5.53283215e-19  3.62174188e-17]\n",
            "   [ 4.97414667e-16 -1.91163544e-17 -4.53641851e-17  1.57111703e-18\n",
            "     3.38081759e-02  7.49430357e-17]\n",
            "   [-2.42118626e-01  4.54101197e-03  1.65509332e-02  2.66635396e-17\n",
            "     7.42880275e-17  8.74204002e-03]]\n",
            "\n",
            "  [[-1.51436760e-01  1.84429506e-02  2.46189939e-02 -1.21892541e-17\n",
            "    -1.78447692e-17  6.40512562e-03]\n",
            "   [ 8.78369520e-02 -9.36020789e-03  2.16452114e-02 -3.69434522e-17\n",
            "    -5.42640109e-17  2.03747148e-02]\n",
            "   [ 9.90974245e-01 -1.31679803e-02  8.70090353e-03 -3.55636591e-17\n",
            "    -4.63238173e-17  1.41651559e-02]\n",
            "   [-6.93223274e-16  9.28210772e-18 -7.85207936e-19  1.12083197e-02\n",
            "     5.20645026e-19  1.45419107e-17]\n",
            "   [-8.28239006e-16  1.02109494e-17 -1.00451109e-17  2.10470744e-19\n",
            "     1.12083197e-02  3.03473160e-17]\n",
            "   [ 2.65843254e-01 -5.34487452e-03  2.07171914e-03  2.58896030e-17\n",
            "     3.45445807e-17  4.81053325e-03]]\n",
            "\n",
            "  [[-3.01710711e-16  3.96457942e-17 -1.26600370e-17  2.58536922e-02\n",
            "     3.65129575e-19  8.12756159e-18]\n",
            "   [ 2.73275393e-16 -1.67841244e-17 -3.75492869e-17  3.38081759e-02\n",
            "     1.69176197e-18  3.60635165e-17]\n",
            "   [-6.98058402e-16  7.43273431e-18 -1.41587727e-18  1.12083197e-02\n",
            "     5.32875106e-19  1.54278167e-17]\n",
            "   [ 1.11539591e+00 -1.22985373e-02 -4.28354178e-03  3.58758817e-17\n",
            "    -1.26325627e-17  4.10551212e-03]\n",
            "   [ 6.31319112e-17 -4.08500188e-18  2.30726130e-18  3.17224315e-17\n",
            "     2.19427410e-17 -8.59127626e-19]\n",
            "   [ 3.19372323e-16 -1.74033143e-18  2.91837596e-17 -1.03687761e-02\n",
            "    -4.46684244e-19  1.02198119e-17]]\n",
            "\n",
            "  [[-4.70165337e-16  6.98448148e-17 -1.79072218e-17  7.32504566e-20\n",
            "     2.58536922e-02  2.18063119e-17]\n",
            "   [ 5.13805382e-16 -1.78920246e-17 -4.71602401e-17  1.35485303e-18\n",
            "     3.38081759e-02  7.21167733e-17]\n",
            "   [-8.22558776e-16  6.60444466e-18 -1.24144646e-17  5.04729866e-19\n",
            "     1.12083197e-02  3.30698456e-17]\n",
            "   [ 8.76576659e-17 -3.77044373e-18  2.37959885e-18  3.17226055e-17\n",
            "     2.19458749e-17 -9.59321297e-19]\n",
            "   [ 1.11539591e+00 -1.22985373e-02 -4.28354178e-03 -8.58074479e-18\n",
            "     5.06064922e-17  4.10551212e-03]\n",
            "   [ 9.52737436e-16  3.78146974e-19  4.13464730e-17 -3.74889532e-19\n",
            "    -1.03687761e-02  2.67735718e-18]]\n",
            "\n",
            "  [[ 1.59790984e-01 -2.66865302e-02  6.40512562e-03  8.86507442e-18\n",
            "     2.25952244e-17  2.11708054e-02]\n",
            "   [-2.42118626e-01  4.54101197e-03  1.65509332e-02  2.79249718e-17\n",
            "     6.75567339e-17  8.74204002e-03]\n",
            "   [ 2.65843254e-01 -5.34487452e-03  2.07171914e-03  2.63563725e-17\n",
            "     3.52867422e-17  4.81053325e-03]\n",
            "   [ 3.49328094e-16 -7.48143241e-18  2.78447894e-17 -1.03687761e-02\n",
            "    -3.18118626e-19  1.18302823e-17]\n",
            "   [ 9.50154824e-16 -1.18399854e-17  3.46525299e-17 -1.01358121e-18\n",
            "    -1.03687761e-02  1.53371457e-17]\n",
            "   [ 7.34481338e-01 -5.21692816e-03 -1.59999430e-02 -2.69461345e-17\n",
            "    -5.20300699e-17 -8.28037465e-03]]]\n",
            "\n",
            "\n",
            " [[[-4.38465691e-01  1.06368185e+00  8.78369520e-02  2.64359123e-16\n",
            "     4.91776880e-16 -2.42118626e-01]\n",
            "   [ 6.47204045e-02 -1.50469869e-02 -9.36020789e-03 -1.55807457e-17\n",
            "    -1.84426767e-17  4.54101197e-03]\n",
            "   [ 1.84429506e-02 -1.72330627e-02  2.16452114e-02 -3.78568078e-17\n",
            "    -4.89113948e-17  1.65509332e-02]\n",
            "   [ 3.98148159e-17 -2.57162227e-17 -3.64671345e-17  3.38081759e-02\n",
            "     1.63877260e-18  2.81665413e-17]\n",
            "   [ 6.93762523e-17 -1.58664326e-17 -5.49102950e-17  1.77968781e-18\n",
            "     3.38081759e-02  6.51942244e-17]\n",
            "   [-2.66865302e-02 -2.69295995e-03  2.03747148e-02  3.61727868e-17\n",
            "     7.81662697e-17  8.74204002e-03]]\n",
            "\n",
            "  [[ 6.47204045e-02 -1.50469869e-02 -9.36020789e-03 -1.55078760e-17\n",
            "    -1.83515096e-17  4.54101197e-03]\n",
            "   [-1.50469869e-02  7.82246148e-01 -2.82736344e-02  3.68728286e-17\n",
            "     1.18050639e-16 -1.20862414e-01]\n",
            "   [-9.36020789e-03 -2.82736344e-02  1.38461310e-01 -8.86835895e-17\n",
            "    -5.47038849e-17  2.11790621e-02]\n",
            "   [-1.65273260e-17  3.91054618e-17 -8.68052417e-17  1.56942623e-01\n",
            "     1.06944274e-18  1.43278853e-17]\n",
            "   [-1.94241609e-17  1.40603512e-16 -7.09655110e-17  8.55350118e-18\n",
            "     1.56942623e-01  1.53165096e-16]\n",
            "   [ 4.54101197e-03 -1.20862414e-01  2.11790621e-02  1.52576262e-17\n",
            "     1.80655427e-16  8.19731113e-02]]\n",
            "\n",
            "  [[ 1.84429506e-02 -1.72330627e-02  2.16452114e-02 -3.85113241e-17\n",
            "    -4.80268665e-17  1.65509332e-02]\n",
            "   [-9.36020789e-03 -2.82736344e-02  1.38461310e-01 -8.80645759e-17\n",
            "    -6.80804217e-17  2.11790621e-02]\n",
            "   [-1.31679803e-02  7.08160916e-01  6.20624861e-02 -1.45430997e-17\n",
            "     1.37769514e-17 -5.09591903e-02]\n",
            "   [ 4.94143739e-18 -4.22585711e-16 -1.01546000e-16  4.03035161e-02\n",
            "    -3.59713965e-19  1.91291960e-16]\n",
            "   [ 8.00580725e-18 -3.90513860e-16 -1.88023978e-16  2.56891857e-19\n",
            "     4.03035161e-02  2.47575460e-16]\n",
            "   [-5.34487452e-03  1.01782960e-01  6.86961222e-02  2.28540960e-16\n",
            "     3.80359480e-16 -6.06860239e-02]]\n",
            "\n",
            "  [[ 3.96016650e-17 -2.58988669e-17 -3.80328795e-17  3.38081759e-02\n",
            "     1.82415982e-18  2.77429334e-17]\n",
            "   [-1.56689323e-17  3.75528528e-17 -8.81242104e-17  1.56942623e-01\n",
            "     5.16356965e-18  1.09551172e-17]\n",
            "   [ 2.83045708e-18 -4.22385855e-16 -1.04057507e-16  4.03035161e-02\n",
            "     4.51629281e-19  2.04064926e-16]\n",
            "   [-1.22985373e-02  7.77829097e-01  4.78181725e-02  3.27866283e-16\n",
            "     2.43261811e-16 -1.21924948e-01]\n",
            "   [-2.29211562e-20  4.68945985e-17  1.47736052e-17  1.19885476e-16\n",
            "     7.76177904e-17 -8.45270017e-19]\n",
            "   [-4.15221640e-18  6.84053532e-17  2.24588973e-16 -4.16508161e-02\n",
            "     1.37085936e-18 -1.17449241e-16]]\n",
            "\n",
            "  [[ 6.97471247e-17 -1.74478778e-17 -5.40163363e-17  1.67411005e-18\n",
            "     3.38081759e-02  6.52999174e-17]\n",
            "   [-1.94496142e-17  1.22391107e-16 -6.16628998e-17  9.18448418e-18\n",
            "     1.56942623e-01  1.54097734e-16]\n",
            "   [ 8.49182133e-18 -3.79901698e-16 -1.92912947e-16 -9.55581370e-19\n",
            "     4.03035161e-02  2.55784764e-16]\n",
            "   [ 4.00838408e-19  3.85795429e-17  1.49936753e-17  1.19719376e-16\n",
            "     7.77801015e-17 -7.68368787e-19]\n",
            "   [-1.22985373e-02  7.77829097e-01  4.78181725e-02  1.53205044e-16\n",
            "     4.68866115e-16 -1.21924948e-01]\n",
            "   [-1.86121498e-17  3.04686228e-16  4.24532065e-16 -4.39534590e-18\n",
            "    -4.16508161e-02 -3.98162799e-16]]\n",
            "\n",
            "  [[-2.66865302e-02 -2.69295995e-03  2.03747148e-02  3.62650645e-17\n",
            "     7.43416591e-17  8.74204002e-03]\n",
            "   [ 4.54101197e-03 -1.20862414e-01  2.11790621e-02  6.82935567e-18\n",
            "     1.62652656e-16  8.19731113e-02]\n",
            "   [-5.34487452e-03  1.01782960e-01  6.86961222e-02  2.33297356e-16\n",
            "     3.71777197e-16 -6.06860239e-02]\n",
            "   [-1.21759166e-17  4.80297255e-17  2.13565819e-16 -4.16508161e-02\n",
            "     5.75774169e-19 -8.80391381e-17]\n",
            "   [-2.04014869e-17  2.72648182e-16  4.25279729e-16 -7.13503843e-18\n",
            "    -4.16508161e-02 -3.57376814e-16]\n",
            "   [-5.21692816e-03  6.12883783e-01 -9.90962252e-02 -1.61175561e-16\n",
            "    -2.82477881e-16 -1.95498046e-02]]]\n",
            "\n",
            "\n",
            " [[[-1.51436760e-01  8.78369520e-02  9.90974245e-01 -6.94468080e-16\n",
            "    -7.62436080e-16  2.65843254e-01]\n",
            "   [ 1.84429506e-02 -9.36020789e-03 -1.31679803e-02  1.00554922e-17\n",
            "     2.04110795e-17 -5.34487452e-03]\n",
            "   [ 2.46189939e-02  2.16452114e-02  8.70090353e-03  2.44585899e-18\n",
            "    -1.52845130e-18  2.07171914e-03]\n",
            "   [-1.34031447e-17 -3.65736239e-17 -3.66949674e-17  1.12083197e-02\n",
            "     9.85453484e-19  2.53538036e-17]\n",
            "   [-2.00497505e-17 -4.99045961e-17 -4.88973988e-17  9.43212902e-19\n",
            "     1.12083197e-02  3.47928880e-17]\n",
            "   [ 6.40512562e-03  2.03747148e-02  1.41651559e-02  9.60195519e-18\n",
            "     2.05092021e-17  4.81053325e-03]]\n",
            "\n",
            "  [[ 1.84429506e-02 -9.36020789e-03 -1.31679803e-02  9.85228392e-18\n",
            "     2.08970542e-17 -5.34487452e-03]\n",
            "   [-1.72330627e-02 -2.82736344e-02  7.08160916e-01 -4.07434998e-16\n",
            "    -3.82578913e-16  1.01782960e-01]\n",
            "   [ 2.16452114e-02  1.38461310e-01  6.20624861e-02 -9.73665469e-17\n",
            "    -1.57488696e-16  6.86961222e-02]\n",
            "   [-3.85370951e-17 -9.07109439e-17 -2.20326029e-17  4.03035161e-02\n",
            "     3.80562996e-19  2.30135796e-16]\n",
            "   [-5.05021984e-17 -6.37619883e-17  3.95553501e-17 -9.21935642e-19\n",
            "     4.03035161e-02  3.73766146e-16]\n",
            "   [ 1.65509332e-02  2.11790621e-02 -5.09591903e-02  1.82547614e-16\n",
            "     2.60625665e-16 -6.06860239e-02]]\n",
            "\n",
            "  [[ 2.46189939e-02  2.16452114e-02  8.70090353e-03  3.13002083e-18\n",
            "    -2.62378048e-18  2.07171914e-03]\n",
            "   [ 2.16452114e-02  1.38461310e-01  6.20624861e-02 -9.78424190e-17\n",
            "    -1.60698757e-16  6.86961222e-02]\n",
            "   [ 8.70090353e-03  6.20624861e-02  7.76790044e-01 -3.90957264e-16\n",
            "    -4.63336893e-16  1.24533083e-01]\n",
            "   [ 4.06112628e-20 -9.65445111e-17 -4.08004845e-16  5.15571898e-02\n",
            "     1.11637997e-17 -8.05330744e-17]\n",
            "   [-6.05101695e-18 -1.61723861e-16 -5.74073354e-16  1.70249559e-17\n",
            "     5.15571898e-02 -2.55771715e-16]\n",
            "   [ 2.07171914e-03  6.86961222e-02  1.24533083e-01 -8.48062313e-17\n",
            "    -2.10492178e-16  1.22969373e-01]]\n",
            "\n",
            "  [[-1.26687851e-17 -3.79330348e-17 -3.55698125e-17  1.12083197e-02\n",
            "     5.45575798e-19  2.59624361e-17]\n",
            "   [-3.73092819e-17 -8.41167476e-17 -2.29426770e-17  4.03035161e-02\n",
            "     3.21126361e-19  2.31413358e-16]\n",
            "   [-3.87718030e-19 -9.77345118e-17 -3.74388704e-16  5.15571898e-02\n",
            "     1.07606058e-17 -8.30047133e-17]\n",
            "   [-4.28354178e-03  4.78181725e-02  7.25741700e-01 -4.70791646e-16\n",
            "    -3.76273938e-16  1.36326286e-01]\n",
            "   [-2.03976701e-19  4.96433812e-18  6.20050740e-17 -7.01453322e-18\n",
            "     1.21469422e-17 -1.48828481e-18]\n",
            "   [ 3.26029920e-17  2.24763818e-16  1.32058784e-16  7.58596288e-03\n",
            "     1.40262982e-17  2.05401823e-16]]\n",
            "\n",
            "  [[-1.63080644e-17 -5.44379861e-17 -4.68448123e-17  3.52956685e-19\n",
            "     1.12083197e-02  3.39244678e-17]\n",
            "   [-4.94008846e-17 -7.98259874e-17  1.76110136e-17  1.70984648e-18\n",
            "     4.03035161e-02  3.85108607e-16]\n",
            "   [-5.99481987e-18 -1.75812757e-16 -5.12119691e-16  1.52933213e-17\n",
            "     5.15571898e-02 -2.40410448e-16]\n",
            "   [-1.41975706e-19  5.13580240e-18  4.65691860e-17 -1.27464642e-17\n",
            "     1.18308005e-17 -1.10962271e-18]\n",
            "   [-4.28354178e-03  4.78181725e-02  7.25741700e-01 -3.94061468e-16\n",
            "    -3.85507427e-16  1.36326286e-01]\n",
            "   [ 4.01060630e-17  4.56772927e-16  2.02234636e-16  1.58216214e-17\n",
            "     7.58596288e-03  4.93820015e-16]]\n",
            "\n",
            "  [[ 6.40512562e-03  2.03747148e-02  1.41651559e-02  9.48633405e-18\n",
            "     2.56036116e-17  4.81053325e-03]\n",
            "   [ 1.65509332e-02  2.11790621e-02 -5.09591903e-02  1.87369500e-16\n",
            "     2.82953402e-16 -6.06860239e-02]\n",
            "   [ 2.07171914e-03  6.86961222e-02  1.24533083e-01 -8.25990921e-17\n",
            "    -2.42588369e-16  1.22969373e-01]\n",
            "   [ 3.02008374e-17  2.21917394e-16  1.27884980e-16  7.58596288e-03\n",
            "     1.39458769e-17  2.02254017e-16]\n",
            "   [ 3.87706685e-17  4.40561455e-16  1.75946497e-16  9.23915820e-18\n",
            "     7.58596288e-03  5.42694534e-16]\n",
            "   [-1.59999430e-02 -9.90962252e-02  5.81960146e-01 -8.33972070e-17\n",
            "    -1.58307088e-16 -4.47663569e-02]]]\n",
            "\n",
            "\n",
            " [[[-3.01813705e-16  2.71788185e-16 -7.03386910e-16  1.11539591e+00\n",
            "     5.65291970e-17  3.50576285e-16]\n",
            "   [ 3.98265310e-17 -1.68586518e-17  1.28025316e-17 -1.22985373e-02\n",
            "    -1.98130354e-18 -6.92424976e-18]\n",
            "   [-1.33750517e-17 -3.91830457e-17  3.83070268e-18 -4.28354178e-03\n",
            "    -1.03986897e-18  3.16223842e-17]\n",
            "   [ 2.58536922e-02  3.38081759e-02  1.12083197e-02  3.59029967e-17\n",
            "     3.17399615e-17 -1.03687761e-02]\n",
            "   [ 1.61068712e-18  3.10553936e-18  8.34792685e-19 -1.29965235e-17\n",
            "     2.18716357e-17 -1.14981080e-18]\n",
            "   [ 7.62335265e-18  3.52892925e-17  8.81779747e-18  4.10551212e-03\n",
            "     1.35615433e-18  1.02971071e-17]]\n",
            "\n",
            "  [[ 3.96255638e-17 -1.70669283e-17  1.29740474e-17 -1.22985373e-02\n",
            "    -2.06514833e-18 -7.19920851e-18]\n",
            "   [-2.58812112e-17  3.40678514e-17 -4.13562995e-16  7.77829097e-01\n",
            "     3.55513576e-17  8.73895561e-17]\n",
            "   [-3.84791316e-17 -8.93452030e-17 -9.61505072e-17  4.78181725e-02\n",
            "    -3.64412620e-18  2.51077005e-16]\n",
            "   [ 3.38081759e-02  1.56942623e-01  4.03035161e-02  3.29023253e-16\n",
            "     1.18885346e-16 -4.16508161e-02]\n",
            "   [ 2.43020912e-18  5.05097564e-18 -7.71252386e-19  2.54586833e-16\n",
            "     7.88948955e-17 -5.75773939e-18]\n",
            "   [ 2.64138646e-17  1.85656466e-17  1.90677002e-16 -1.21924948e-01\n",
            "     6.93032898e-18 -1.16812517e-16]]\n",
            "\n",
            "  [[-1.27116579e-17 -3.83428813e-17  3.60615244e-18 -4.28354178e-03\n",
            "    -9.07119541e-19  3.14587772e-17]\n",
            "   [-3.77585496e-17 -8.85901824e-17 -9.73486181e-17  4.78181725e-02\n",
            "    -1.77438743e-18  2.45204399e-16]\n",
            "   [-3.62422230e-17 -1.60049475e-17 -4.02441967e-16  7.25741700e-01\n",
            "     4.54349872e-17  1.04509344e-16]\n",
            "   [ 1.12083197e-02  4.03035161e-02  5.15571898e-02 -4.70029747e-16\n",
            "    -9.87219540e-18  7.58596288e-03]\n",
            "   [ 2.10470744e-19 -1.90324284e-18  1.38201377e-17 -3.94933647e-16\n",
            "     9.85952241e-18 -4.72238663e-18]\n",
            "   [ 2.68929008e-17  2.31149476e-16 -9.49206657e-17  1.36326286e-01\n",
            "     3.52818147e-18  1.83225573e-16]]\n",
            "\n",
            "  [[ 2.58536922e-02  3.38081759e-02  1.12083197e-02  3.58418809e-17\n",
            "     3.17265806e-17 -1.03687761e-02]\n",
            "   [ 3.38081759e-02  1.56942623e-01  4.03035161e-02  3.29526591e-16\n",
            "     1.17671652e-16 -4.16508161e-02]\n",
            "   [ 1.12083197e-02  4.03035161e-02  5.15571898e-02 -4.88607064e-16\n",
            "    -7.36430402e-18  7.58596288e-03]\n",
            "   [ 3.58394542e-17  3.29005017e-16 -4.89658051e-16  8.80159093e-01\n",
            "     7.39180544e-17  1.23548937e-16]\n",
            "   [ 3.17161721e-17  1.20719759e-16 -1.03516658e-17  9.22293178e-17\n",
            "     4.74444451e-02  6.13589913e-17]\n",
            "   [-1.03687761e-02 -4.16508161e-02  7.58596288e-03  1.27505666e-16\n",
            "     5.58750628e-17  2.41407920e-02]]\n",
            "\n",
            "  [[ 1.19167877e-18  2.02468133e-18  6.93587260e-19 -1.30900926e-17\n",
            "     2.19442260e-17 -9.67678191e-19]\n",
            "   [ 2.57960318e-18  5.80487456e-18  4.67255704e-19  2.39381601e-16\n",
            "     7.76950075e-17 -5.73724750e-18]\n",
            "   [ 8.81588929e-19 -2.15986899e-18  1.24989778e-17 -4.14246148e-16\n",
            "     1.31241082e-17 -9.48360028e-18]\n",
            "   [ 3.17223542e-17  1.19913093e-16 -9.83635692e-18  7.11883511e-17\n",
            "     4.74444451e-02  6.04486604e-17]\n",
            "   [-8.56355037e-18  1.51834148e-16 -4.05762555e-16  7.85270203e-01\n",
            "     1.73145264e-17  1.67410769e-16]\n",
            "   [-7.35493341e-19 -1.38855744e-18  1.60140651e-17  5.94110784e-16\n",
            "     3.25438884e-17  3.67130440e-18]]\n",
            "\n",
            "  [[ 8.29597347e-18  3.60784102e-17  9.09163833e-18  4.10551212e-03\n",
            "     1.20470252e-18  8.50377476e-18]\n",
            "   [ 2.77793192e-17  1.39126227e-17  1.94841567e-16 -1.21924948e-01\n",
            "    -6.32654783e-18 -1.03441730e-16]\n",
            "   [ 2.62338941e-17  2.34722507e-16 -9.97038208e-17  1.36326286e-01\n",
            "     2.10794962e-17  1.72383778e-16]\n",
            "   [-1.03687761e-02 -4.16508161e-02  7.58596288e-03  1.20516075e-16\n",
            "     5.54735724e-17  2.41407920e-02]\n",
            "   [-1.50354295e-19 -7.37330807e-19  7.41394422e-18  6.01521079e-16\n",
            "     4.66619970e-17 -1.06103320e-17]\n",
            "   [-2.65066210e-17 -1.48433381e-16 -9.58297527e-17  5.54511357e-01\n",
            "     7.09377186e-17 -2.17553949e-16]]]\n",
            "\n",
            "\n",
            " [[[-4.70523021e-16  4.88228846e-16 -7.72748549e-16  6.24981557e-17\n",
            "     1.11539591e+00  9.97811632e-16]\n",
            "   [ 7.07473853e-17 -1.90801674e-17  1.43425801e-17 -7.71982783e-18\n",
            "    -1.22985373e-02 -1.45555424e-17]\n",
            "   [-2.06172075e-17 -4.74105724e-17 -4.16127224e-18 -2.89261103e-18\n",
            "    -4.28354178e-03  3.88665079e-17]\n",
            "   [ 1.88857137e-18  9.89538506e-19  1.72623657e-19  3.17439095e-17\n",
            "    -8.52248728e-18  8.80296213e-19]\n",
            "   [ 2.58536922e-02  3.38081759e-02  1.12083197e-02  2.19290246e-17\n",
            "     5.00888577e-17 -1.03687761e-02]\n",
            "   [ 2.04444091e-17  7.86991844e-17  3.10172801e-17  3.35679752e-18\n",
            "     4.10551212e-03  7.77197659e-18]]\n",
            "\n",
            "  [[ 7.02176961e-17 -1.80169140e-17  1.31593002e-17 -7.80099271e-18\n",
            "    -1.22985373e-02 -1.08920253e-17]\n",
            "   [-1.81573828e-17  1.29447879e-16 -3.47656083e-16  2.88765333e-17\n",
            "     7.77829097e-01  4.04201721e-16]\n",
            "   [-5.71787086e-17 -7.31010464e-17 -1.53940718e-16 -3.27988822e-18\n",
            "     4.78181725e-02  4.96667529e-16]\n",
            "   [ 1.85432582e-18  2.36791092e-18  2.11528647e-18  1.19344852e-16\n",
            "     1.50377628e-16 -5.71646006e-18]\n",
            "   [ 3.38081759e-02  1.56942623e-01  4.03035161e-02  7.90484271e-17\n",
            "     4.73455894e-16 -4.16508161e-02]\n",
            "   [ 7.02883196e-17  1.63902306e-16  2.50192951e-16  1.43176123e-17\n",
            "    -1.21924948e-01 -4.33910248e-16]]\n",
            "\n",
            "  [[-1.94550399e-17 -4.84821957e-17 -4.51280019e-18 -2.77240110e-18\n",
            "    -4.28354178e-03  4.33806388e-17]\n",
            "   [-5.44720304e-17 -7.48177892e-17 -1.55160531e-16 -1.39618122e-18\n",
            "     4.78181725e-02  4.91530978e-16]\n",
            "   [-4.53469945e-17  1.17186602e-17 -4.57460669e-16  2.69273331e-17\n",
            "     7.25741700e-01  2.62389440e-16]\n",
            "   [-1.29876277e-19 -2.30870345e-18  1.25739061e-17 -9.63053717e-18\n",
            "    -3.93743105e-16  1.14491707e-18]\n",
            "   [ 1.12083197e-02  4.03035161e-02  5.15571898e-02  7.97178062e-18\n",
            "    -3.90699588e-16  7.58596288e-03]\n",
            "   [ 3.35763133e-17  3.90270051e-16 -2.26890584e-16 -5.87216349e-18\n",
            "     1.36326286e-01  4.98134142e-16]]\n",
            "\n",
            "  [[ 1.59817381e-18  9.77097552e-19  1.53492628e-19  3.17370255e-17\n",
            "    -8.56381303e-18 -2.88027367e-19]\n",
            "   [ 1.26709384e-18  5.95020408e-18  1.56443419e-18  1.18175169e-16\n",
            "     1.48080139e-16 -4.91840410e-18]\n",
            "   [ 1.15908908e-19 -2.34969220e-18  1.27212876e-17 -7.54664861e-18\n",
            "    -3.90224898e-16  2.01383431e-18]\n",
            "   [-1.27659435e-17  2.23168759e-16 -3.53858673e-16  5.91729048e-17\n",
            "     7.85270203e-01  5.14956725e-16]\n",
            "   [ 2.19441263e-17  7.82396120e-17  1.20281516e-17  4.74444451e-02\n",
            "    -3.66020378e-19  3.51752894e-17]\n",
            "   [ 5.07333772e-19 -2.17582860e-18  1.71010317e-17  5.47566000e-17\n",
            "     1.78320056e-16 -5.17718475e-19]]\n",
            "\n",
            "  [[ 2.58536922e-02  3.38081759e-02  1.12083197e-02  2.19784609e-17\n",
            "     5.04301783e-17 -1.03687761e-02]\n",
            "   [ 3.38081759e-02  1.56942623e-01  4.03035161e-02  7.80941388e-17\n",
            "     4.70185390e-16 -4.16508161e-02]\n",
            "   [ 1.12083197e-02  4.03035161e-02  5.15571898e-02  1.05716145e-17\n",
            "    -3.94706317e-16  7.58596288e-03]\n",
            "   [ 2.19412087e-17  7.83767345e-17  1.35655239e-17  4.74444451e-02\n",
            "    -1.08366984e-17  3.47933260e-17]\n",
            "   [ 5.05056236e-17  4.63628866e-16 -3.71629639e-16 -4.52202987e-18\n",
            "     8.80159093e-01  6.92099881e-16]\n",
            "   [-1.03687761e-02 -4.16508161e-02  7.58596288e-03  2.50270196e-17\n",
            "     6.79806637e-16  2.41407920e-02]]\n",
            "\n",
            "  [[ 2.08704280e-17  7.49903329e-17  3.33531616e-17  3.20394126e-18\n",
            "     4.10551212e-03  6.30672740e-18]\n",
            "   [ 6.71929421e-17  1.37885145e-16  2.84418739e-16  1.59074997e-18\n",
            "    -1.21924948e-01 -4.07813444e-16]\n",
            "   [ 3.35020301e-17  3.85725990e-16 -2.48614736e-16  9.20649181e-18\n",
            "     1.36326286e-01  4.50881722e-16]\n",
            "   [ 9.82923981e-19 -4.41284304e-18  1.48382519e-17  5.56983896e-17\n",
            "     1.55210545e-16 -1.30586116e-18]\n",
            "   [-1.03687761e-02 -4.16508161e-02  7.58596288e-03  3.46670628e-17\n",
            "     7.12543382e-16  2.41407920e-02]\n",
            "   [-5.46278573e-17 -3.00948154e-16 -1.29520471e-16  2.42168305e-17\n",
            "     5.54511357e-01 -5.54041967e-16]]]\n",
            "\n",
            "\n",
            " [[[ 1.59790984e-01 -2.42118626e-01  2.65843254e-01  3.56757481e-16\n",
            "     9.71998798e-16  7.34481338e-01]\n",
            "   [-2.66865302e-02  4.54101197e-03 -5.34487452e-03 -1.17697446e-17\n",
            "    -2.13777933e-17 -5.21692816e-03]\n",
            "   [ 6.40512562e-03  1.65509332e-02  2.07171914e-03  2.90545541e-17\n",
            "     3.84325023e-17 -1.59999430e-02]\n",
            "   [ 7.04909699e-18  2.73549986e-17  2.58556494e-17 -1.03687761e-02\n",
            "    -1.75996398e-19 -2.54938649e-17]\n",
            "   [ 2.15758743e-17  6.93656401e-17  3.80041462e-17 -3.24254700e-19\n",
            "    -1.03687761e-02 -5.64937818e-17]\n",
            "   [ 2.11708054e-02  8.74204002e-03  4.81053325e-03  1.19326771e-17\n",
            "     1.61511811e-17 -8.28037465e-03]]\n",
            "\n",
            "  [[-2.66865302e-02  4.54101197e-03 -5.34487452e-03 -9.56134554e-18\n",
            "    -1.49983415e-17 -5.21692816e-03]\n",
            "   [-2.69295995e-03 -1.20862414e-01  1.01782960e-01  7.38099308e-17\n",
            "     3.81279015e-16  6.12883783e-01]\n",
            "   [ 2.03747148e-02  2.11790621e-02  6.86961222e-02  2.39129125e-16\n",
            "     4.71806595e-16 -9.90962252e-02]\n",
            "   [ 3.41567911e-17  1.97398857e-17  2.33924711e-16 -4.16508161e-02\n",
            "    -4.09080041e-18 -1.35461824e-16]\n",
            "   [ 7.67439164e-17  1.33274615e-16  3.58749050e-16  7.22664702e-19\n",
            "    -4.16508161e-02 -3.02580856e-16]\n",
            "   [ 8.74204002e-03  8.19731113e-02 -6.06860239e-02 -1.09235338e-16\n",
            "    -4.14371065e-16 -1.95498046e-02]]\n",
            "\n",
            "  [[ 6.40512562e-03  1.65509332e-02  2.07171914e-03  2.94529126e-17\n",
            "     4.18632976e-17 -1.59999430e-02]\n",
            "   [ 2.03747148e-02  2.11790621e-02  6.86961222e-02  2.35563462e-16\n",
            "     4.80651041e-16 -9.90962252e-02]\n",
            "   [ 1.41651559e-02 -5.09591903e-02  1.24533083e-01  9.95616396e-17\n",
            "     2.53623310e-16  5.81960146e-01]\n",
            "   [ 1.38933202e-17  1.83719279e-16 -1.02191374e-16  7.58596288e-03\n",
            "     1.26954469e-18 -8.90410040e-17]\n",
            "   [ 2.92814827e-17  3.25652653e-16 -2.16784639e-16 -9.27029092e-18\n",
            "     7.58596288e-03  2.43215353e-18]\n",
            "   [ 4.81053325e-03 -6.06860239e-02  1.22969373e-01  1.83686447e-16\n",
            "     5.16161314e-16 -4.47663569e-02]]\n",
            "\n",
            "  [[ 7.24818583e-18  2.84615116e-17  2.55918650e-17 -1.03687761e-02\n",
            "    -5.13274181e-19 -2.59310491e-17]\n",
            "   [ 3.44837686e-17  1.43825984e-17  2.35961808e-16 -4.16508161e-02\n",
            "    -4.54110337e-18 -1.41557902e-16]\n",
            "   [ 1.42640321e-17  1.93576923e-16 -1.01084351e-16  7.58596288e-03\n",
            "    -7.90105586e-19 -1.06747052e-16]\n",
            "   [ 4.10551212e-03 -1.21924948e-01  1.36326286e-01  1.25500501e-16\n",
            "     4.94386030e-16  5.54511357e-01]\n",
            "   [ 2.55784126e-20 -1.53588694e-17  3.14623118e-18  6.30937148e-17\n",
            "     2.94426243e-17  4.72464295e-17]\n",
            "   [ 6.52596389e-18 -1.20138420e-16  1.81716965e-16  2.41407920e-02\n",
            "     4.59204081e-18 -2.19057448e-16]]\n",
            "\n",
            "  [[ 2.33915182e-17  6.49416973e-17  3.34259005e-17 -5.56927832e-19\n",
            "    -1.03687761e-02 -4.19750667e-17]\n",
            "   [ 7.39668646e-17  1.32540717e-16  3.75666860e-16 -1.15428486e-18\n",
            "    -4.16508161e-02 -2.77820817e-16]\n",
            "   [ 3.15452333e-17  3.27681131e-16 -2.10493490e-16 -1.28246674e-17\n",
            "     7.58596288e-03 -3.43487712e-17]\n",
            "   [-7.62348628e-20 -1.35503695e-17  4.97735599e-18  6.41670922e-17\n",
            "     2.91567619e-17  5.54932817e-17]\n",
            "   [ 4.10551212e-03 -1.21924948e-01  1.36326286e-01  1.74421930e-16\n",
            "     6.57273097e-16  5.54511357e-01]\n",
            "   [ 1.07232598e-17 -3.25447563e-16  5.58081858e-16 -9.45003982e-18\n",
            "     2.41407920e-02 -4.99460216e-16]]\n",
            "\n",
            "  [[ 2.11708054e-02  8.74204002e-03  4.81053325e-03  1.06345651e-17\n",
            "     1.60259031e-17 -8.28037465e-03]\n",
            "   [ 8.74204002e-03  8.19731113e-02 -6.06860239e-02 -9.38752552e-17\n",
            "    -3.59504237e-16 -1.95498046e-02]\n",
            "   [ 4.81053325e-03 -6.06860239e-02  1.22969373e-01  1.74627307e-16\n",
            "     4.64390351e-16 -4.47663569e-02]\n",
            "   [ 7.90311474e-18 -9.41055215e-17  1.79723207e-16  2.41407920e-02\n",
            "    -9.25424993e-19 -2.15124758e-16]\n",
            "   [ 1.39544793e-17 -3.23211602e-16  5.68333080e-16 -2.04278687e-17\n",
            "     2.41407920e-02 -4.95843712e-16]\n",
            "   [-8.28037465e-03 -1.95498046e-02 -4.47663569e-02 -2.29122017e-16\n",
            "    -5.44100880e-16  7.04304126e-01]]]]\n"
          ]
        }
      ],
      "source": [
        "# Obtain the Hamiltonian.\n",
        "hamiltonian = qmolecule.hamiltonian\n",
        "coefficients = hamiltonian.electronic_integrals\n",
        "# print(coefficients.alpha)\n",
        "\n",
        "# Obtain the second quantized operations from the Hamiltonian.\n",
        "second_q_op = hamiltonian.second_q_op()"
      ]
    },
    {
      "cell_type": "code",
      "execution_count": null,
      "metadata": {
        "colab": {
          "base_uri": "https://localhost:8080/"
        },
        "id": "Xj5Jn20SmX9W",
        "outputId": "7aed8866-81d3-414a-d3cc-849ee10d4ae3"
      },
      "outputs": [
        {
          "name": "stderr",
          "output_type": "stream",
          "text": [
            "<ipython-input-12-60b4e97714fb>:2: DeprecationWarning: The QubitConverter class is deprecated as of version 0.6.0 and will be removed no sooner than 3 months after the release . Instead you should directly use the QubitMapper instance which you used to pass into the QubitConverter as the first argument. Refer to the documentation of the qiskit_nature.second_q.mappers module for more information.\n",
            "  converter = QubitConverter(mapper=mapper, two_qubit_reduction=False)\n",
            "/usr/local/lib/python3.10/dist-packages/qiskit_nature/deprecation.py:297: PauliSumOpDeprecationWarning: PauliSumOp is deprecated as of version 0.6.0 and support for them will be removed no sooner than 3 months after the release. Instead, use SparsePauliOp. You can switch to SparsePauliOp immediately, by setting `qiskit_nature.settings.use_pauli_sum_op` to `False`.\n",
            "  return func(*args, **kwargs)\n"
          ]
        }
      ],
      "source": [
        "# Create an instance of the JordanWignerMapper.\n",
        "mapper = JordanWignerMapper()\n",
        "\n",
        "# Create a converter from fermionic operators to qubit operators,\n",
        "# using the Jordan Wigner Mapper. Do not reduce the number\n",
        "# of required qubits by two.\n",
        "converter = QubitConverter(mapper=mapper, two_qubit_reduction=False)\n",
        "\n",
        "# Convert the second quantized operator (second_q_op) to a qubit operator (qubit_op).\n",
        "qubit_op = converter.convert(second_q_op)"
      ]
    },
    {
      "cell_type": "markdown",
      "metadata": {
        "id": "w8vTFXIGMCIw"
      },
      "source": [
        "## Obtain Reference Energy using Classical Simulation\n",
        "We use the classical minimum eigensolver to obtain a reference energy of the hydroxyl radical."
      ]
    },
    {
      "cell_type": "code",
      "execution_count": null,
      "metadata": {
        "id": "AqzA09oomboO"
      },
      "outputs": [],
      "source": [
        "# Create a solver for the ground state energy, which applies the\n",
        "# Jordan-Wigner transformation and uses a classical eigensolver.\n",
        "solver = GroundStateEigensolver(\n",
        "    JordanWignerMapper(),\n",
        "    NumPyMinimumEigensolver(),\n",
        ")"
      ]
    },
    {
      "cell_type": "code",
      "execution_count": null,
      "metadata": {
        "colab": {
          "base_uri": "https://localhost:8080/"
        },
        "id": "V9twcyUImb_4",
        "outputId": "7bbec27e-b7cc-436e-8525-192a8b5cebdc"
      },
      "outputs": [
        {
          "name": "stdout",
          "output_type": "stream",
          "text": [
            "[-78.75252123]\n"
          ]
        }
      ],
      "source": [
        "# Obtain the reference energy.\n",
        "result = solver.solve(qmolecule)\n",
        "print(result.computed_energies)"
      ]
    },
    {
      "cell_type": "code",
      "execution_count": null,
      "metadata": {
        "colab": {
          "base_uri": "https://localhost:8080/"
        },
        "id": "Sqfu1AMHmdfX",
        "outputId": "c25ffe49-e998-4797-e976-cae82fe64669"
      },
      "outputs": [
        {
          "name": "stdout",
          "output_type": "stream",
          "text": [
            "4.36537496654537\n"
          ]
        }
      ],
      "source": [
        "# Print the nuclear repulsion energy.\n",
        "print(result.nuclear_repulsion_energy)"
      ]
    },
    {
      "cell_type": "code",
      "execution_count": null,
      "metadata": {
        "colab": {
          "base_uri": "https://localhost:8080/"
        },
        "id": "zM8xKKvxme3o",
        "outputId": "12583741-1ecf-4ca4-a7cb-69ea053c87c3"
      },
      "outputs": [
        {
          "name": "stdout",
          "output_type": "stream",
          "text": [
            "[-74.38714627]\n",
            "-74.38714626818725\n"
          ]
        }
      ],
      "source": [
        "# Obtain the ground state energy, which is the sum of the computed\n",
        "# energies and the nuclear repulsion energy.\n",
        "ref_value = result.computed_energies + result.nuclear_repulsion_energy\n",
        "ref_value_float = ref_value[0]\n",
        "print(ref_value_float)"
      ]
    },
    {
      "cell_type": "code",
      "execution_count": null,
      "metadata": {
        "colab": {
          "base_uri": "https://localhost:8080/"
        },
        "id": "rm1erF44nicc",
        "outputId": "3336e5ef-e235-43be-e1b7-2cd549aa8d68"
      },
      "outputs": [
        {
          "name": "stdout",
          "output_type": "stream",
          "text": [
            "6\n",
            "(4, 4)\n",
            "<qiskit_nature.second_q.mappers.jordan_wigner_mapper.JordanWignerMapper object at 0x7a44b9adcc10>\n"
          ]
        }
      ],
      "source": [
        "# print(qmolecule.num_spatial_orbitals)\n",
        "# print(qmolecule.num_particles)\n",
        "# print(mapper)"
      ]
    },
    {
      "cell_type": "markdown",
      "metadata": {
        "id": "EuQV5OhGM4-D"
      },
      "source": [
        "## Construct Ansatz using VQE and Circuit Synthesis\n",
        "At this step, we first perform VQE on the UCCSD ansatz to obtain a parameterized circuit. We then transpile the circuit so it has one and two qubit gates, and proceed to circuit synthesis with BQSKit.\n"
      ]
    },
    {
      "cell_type": "markdown",
      "metadata": {
        "id": "Mzp6KPmzRh1a"
      },
      "source": [
        "### Obtain parameterized UCCSD Ansatz using VQE\n",
        "This step of the code obtains the parameterized UCCSD ansatz by running VQE."
      ]
    },
    {
      "cell_type": "code",
      "execution_count": null,
      "metadata": {
        "id": "FkT68ltEmmCL"
      },
      "outputs": [],
      "source": [
        "# Create an instance of the UCCSD ansatz using the properties of\n",
        "# the hydroxyl radical.\n",
        "ansatz = UCCSD(\n",
        "    qmolecule.num_spatial_orbitals,\n",
        "    qmolecule.num_particles,\n",
        "    mapper,\n",
        "    initial_state=HartreeFock(\n",
        "        qmolecule.num_spatial_orbitals,\n",
        "        qmolecule.num_particles,\n",
        "        mapper,\n",
        "    ),\n",
        ")"
      ]
    },
    {
      "cell_type": "code",
      "execution_count": null,
      "metadata": {
        "id": "Q9EI0pUInhhy"
      },
      "outputs": [],
      "source": [
        "# Create an estimator for the ground state energy of the hydroxyl radical.\n",
        "# Use the seed and specified number of shots.\n",
        "estimator = Estimator(\n",
        "    backend_options = {\n",
        "        'method': 'statevector',\n",
        "        'device': 'CPU'\n",
        "        # 'noise_model': noise_model\n",
        "    },\n",
        "    run_options = {\n",
        "        'shots': shots,\n",
        "        'seed': seed,\n",
        "    },\n",
        "    transpile_options = {\n",
        "        'seed_transpiler':seed_transpiler\n",
        "    }\n",
        ")"
      ]
    },
    {
      "cell_type": "code",
      "execution_count": null,
      "metadata": {
        "id": "uGSINnbznyUq"
      },
      "outputs": [],
      "source": [
        "# Create a VQE solver.\n",
        "vqe_solver = VQE(estimator, ansatz, SLSQP())\n",
        "# Set an initial point for the optimization.\n",
        "vqe_solver.initial_point = [0.0] * ansatz.num_parameters"
      ]
    },
    {
      "cell_type": "code",
      "execution_count": null,
      "metadata": {
        "id": "EkTeCXswn00a"
      },
      "outputs": [],
      "source": [
        "# Computes the ground state energy using a simulator\n",
        "# and optimizes the parameters for the UCCSD ansatz\n",
        "# through VQE.\n",
        "start_time = time.time()\n",
        "calc = GroundStateEigensolver(mapper, vqe_solver)\n",
        "res = calc.solve(qmolecule)\n",
        "end_time = time.time()\n",
        "# print(res)"
      ]
    },
    {
      "cell_type": "code",
      "execution_count": null,
      "metadata": {
        "id": "fednvcCcn-ve"
      },
      "outputs": [],
      "source": [
        "# Obtain the optimal parameters for the UCCSD ansatz from VQE.\n",
        "optimal_point = res.raw_result.optimal_point\n",
        "# print(optimal_point)"
      ]
    },
    {
      "cell_type": "code",
      "execution_count": null,
      "metadata": {
        "id": "ahZELr7eoB62"
      },
      "outputs": [],
      "source": [
        "# Obtain the parameterized UCCSD ansatz as a result of VQE.\n",
        "optimized_ansatz = vqe_solver.ansatz.bind_parameters(optimal_point)\n",
        "optimized_ansatz_qasm = optimized_ansatz.qasm()"
      ]
    },
    {
      "cell_type": "markdown",
      "metadata": {
        "id": "DI-vL6L9RyeM"
      },
      "source": [
        "### Transpile the Parameterized UCCSD ansatz and perform circuit synthesis using BQSKit\n",
        "We then transpile the parameterized UCCSD ansatz on Qiskit's QASM simulator to obtain a circuit with one and two qubit gates, and then perform BQSKit with an optimization level of 3 (for fine-tuning of gate parameters)."
      ]
    },
    {
      "cell_type": "code",
      "execution_count": null,
      "metadata": {
        "id": "aXRv5IhNou2h"
      },
      "outputs": [],
      "source": [
        "# Obtain a Qiskit representation of the parameterized ansatz.\n",
        "circuit = QuantumCircuit.from_qasm_str(optimized_ansatz_qasm)"
      ]
    },
    {
      "cell_type": "code",
      "execution_count": null,
      "metadata": {
        "id": "Is2srX2Won2u"
      },
      "outputs": [],
      "source": [
        "# Use the QASM simulator backend.\n",
        "backend = Aer.get_backend('qasm_simulator')"
      ]
    },
    {
      "cell_type": "code",
      "execution_count": null,
      "metadata": {
        "id": "ADghiG1IoqwI"
      },
      "outputs": [],
      "source": [
        "# Transpile the circuit on the simulator with optimization level 0, as we\n",
        "# only want to obtain a circuit with one and two qubit gates.\n",
        "transpiled_circuit = transpile(circuit, backend, optimization_level=0, seed_transpiler=seed)"
      ]
    },
    {
      "cell_type": "code",
      "execution_count": null,
      "metadata": {
        "id": "sTARb7GuoxJh"
      },
      "outputs": [],
      "source": [
        "# transpiled_circuit.depth()"
      ]
    },
    {
      "cell_type": "code",
      "execution_count": null,
      "metadata": {
        "id": "pRPm6OXUTAUt"
      },
      "outputs": [],
      "source": [
        "# Set a base file name to save an intermediate QASM file.\n",
        "base_ansatz_filename = 'UCCSD_VQE_ansatz_seed' + str(seed) + '_' + noisemodel_name"
      ]
    },
    {
      "cell_type": "code",
      "execution_count": null,
      "metadata": {
        "id": "Ldky-N9EpAXI"
      },
      "outputs": [],
      "source": [
        "# Write the circuit in QASM form to the file. This is necessary for\n",
        "# BQSKit to read in the circuit.\n",
        "with open(base_ansatz_filename + '_transpiled' + '.qasm', 'w') as file:\n",
        "  file.write(transpiled_circuit.qasm())"
      ]
    },
    {
      "cell_type": "code",
      "execution_count": null,
      "metadata": {
        "id": "9iDoJ9v0pNGb"
      },
      "outputs": [],
      "source": [
        "# Obtain a BQSKit representation of the transpiled circuit.\n",
        "bqskit_rep_circuit = Circuit.from_file(base_ansatz_filename + '_transpiled' + '.qasm')"
      ]
    },
    {
      "cell_type": "code",
      "execution_count": null,
      "metadata": {
        "id": "Wmy7wR4QpRMv"
      },
      "outputs": [],
      "source": [
        "# Compile the circuit using BQSKit, with the optimization level as 3.\n",
        "compiled_circuit = compile(bqskit_rep_circuit, optimization_level=3, seed=seed)"
      ]
    },
    {
      "cell_type": "code",
      "execution_count": null,
      "metadata": {
        "id": "mARclwB3phhe"
      },
      "outputs": [],
      "source": [
        "# print(compiled_circuit.depth)"
      ]
    },
    {
      "cell_type": "markdown",
      "metadata": {
        "id": "0OBQLE0ITpa9"
      },
      "source": [
        "## Circuit Evaluation\n",
        "We now evaluate the circuit with the provided Hamiltonian and use Qiskit's Estimator to estimate the ground state energy."
      ]
    },
    {
      "cell_type": "code",
      "execution_count": null,
      "metadata": {
        "id": "H_2o4MvqqUJT"
      },
      "outputs": [],
      "source": [
        "# Read in the Hamiltonian as a string.\n",
        "with open(hamiltonian_file_path, 'r') as file:\n",
        "  hamiltonian_str = file.read()"
      ]
    },
    {
      "cell_type": "code",
      "execution_count": null,
      "metadata": {
        "id": "jERLX2AbqdWN"
      },
      "outputs": [],
      "source": [
        "# Define a function for parsing the Hamiltonian string into a list of\n",
        "# Pauli strings.\n",
        "def parse_hamiltonian(content: str):\n",
        "    \"\"\"\n",
        "    Parses the input Hamiltonian string and returns a list of Pauli strings\n",
        "    padded for a circuit with 27 qubits with their coefficients.\n",
        "\n",
        "    Args:\n",
        "    content (str): The string representation of the Hamiltonian to parse.\n",
        "    It is assumed that the file contains one Pauli coefficient and string per\n",
        "    line, and each line is of the format \"<coeff> * <pauli_string>\".\n",
        "\n",
        "    Returns:\n",
        "    A list of tuples representing a list of the Pauli coefficients and strings.\n",
        "    Each tuple is of the form (<coeff>, <pauli_string>), where <coeff> is a\n",
        "    floating point number representing the coefficient, and <pauli_string> is\n",
        "    a string of length 27 for a circuit with 27 physical qubits.\n",
        "    \"\"\"\n",
        "\n",
        "    # Initializing the list to hold the parsed Pauli operators and their coefficients\n",
        "    pauli_list = []\n",
        "\n",
        "    # Splitting the content into lines and parsing each line\n",
        "    for line in content.splitlines():\n",
        "        # Removing the '+' symbol and splitting each line into coefficient and operator parts\n",
        "        parts = line.replace('+', '').replace('- ', '-').split(' * ')\n",
        "\n",
        "        # If the line is correctly formatted, it should have exactly two parts\n",
        "        if len(parts) == 2:\n",
        "            try:\n",
        "                # The first part is the coefficient\n",
        "                coefficient = float(parts[0])\n",
        "                # The second part is the operator string\n",
        "                # Prepend 15 I's to fit to FakeMontreal hardware backend\n",
        "                operator = \"I\" * 15 + parts[1]\n",
        "\n",
        "                # Appending the parsed operator and coefficient to the list\n",
        "                pauli_list.append((operator, coefficient))\n",
        "            except ValueError:  # Handle lines that cannot be parsed correctly\n",
        "                print('Error: cannot parse this Pauli string:', parts)\n",
        "\n",
        "    return pauli_list"
      ]
    },
    {
      "cell_type": "code",
      "execution_count": null,
      "metadata": {
        "id": "JODJ2ljYtgCA"
      },
      "outputs": [],
      "source": [
        "# Obtain the observable as a Sparse Pauli Operator\n",
        "observable = SparsePauliOp.from_list(parse_hamiltonian(hamiltonian_str))\n",
        "print(len(observable))\n",
        "print(f\">>> Observable: {observable.paulis}\")"
      ]
    },
    {
      "cell_type": "code",
      "execution_count": null,
      "metadata": {
        "id": "ws_8G1-Ftltj"
      },
      "outputs": [],
      "source": [
        "# Initialize the system model\n",
        "system_model = FakeMontreal()"
      ]
    },
    {
      "cell_type": "code",
      "execution_count": null,
      "metadata": {
        "id": "OYx7Ee6ut3iM"
      },
      "outputs": [],
      "source": [
        "# Read in the noise model\n",
        "with open(noisemodel_path, 'rb') as file:\n",
        "    noise_model = pickle.load(file)"
      ]
    },
    {
      "cell_type": "code",
      "execution_count": null,
      "metadata": {
        "id": "bekYBLPdt-Md"
      },
      "outputs": [],
      "source": [
        "# Initialize a container for the noise model\n",
        "noise_model1 = noise.NoiseModel()"
      ]
    },
    {
      "cell_type": "code",
      "execution_count": null,
      "metadata": {
        "id": "Ae3RSb5ht-pV"
      },
      "outputs": [],
      "source": [
        "# Parameterize the noise model object with the specified noise model\n",
        "noise_modelreal = noise_model1.from_dict(noise_model)"
      ]
    },
    {
      "cell_type": "code",
      "execution_count": null,
      "metadata": {
        "id": "WT6DBLC7t_xA"
      },
      "outputs": [],
      "source": [
        "# noise_modelreal"
      ]
    },
    {
      "cell_type": "code",
      "execution_count": null,
      "metadata": {
        "id": "xawfvsVUuGWY"
      },
      "outputs": [],
      "source": [
        "# Obtain a Qiskit representation of the BQSKit compiled circuit\n",
        "compiled_circ_qiskit = QuantumCircuit.from_qasm_str(compiled_circuit.to('qasm'))"
      ]
    },
    {
      "cell_type": "code",
      "execution_count": null,
      "metadata": {
        "id": "P74BHLHxuJNh"
      },
      "outputs": [],
      "source": [
        "# compiled_circ_qiskit.draw()"
      ]
    },
    {
      "cell_type": "code",
      "execution_count": null,
      "metadata": {
        "id": "iaJRg-nYsHXx"
      },
      "outputs": [],
      "source": [
        "# Specify a layout for the transpiler onto the system model.\n",
        "# Map the first 12 logical qubits to the first 12 physical qubits.\n",
        "layout = [0, 1, 2, 3, 4, 5, 6, 7, 8, 9, 10, 11]"
      ]
    },
    {
      "cell_type": "code",
      "execution_count": null,
      "metadata": {
        "id": "NakVOdOnuJYS"
      },
      "outputs": [],
      "source": [
        "# Transpile the circuit with the above layout on the system model.\n",
        "transpiled_circuit_montreal = transpile(compiled_circ_qiskit, backend=system_model, seed_transpiler=seed, initial_layout=layout)"
      ]
    },
    {
      "cell_type": "code",
      "execution_count": null,
      "metadata": {
        "id": "vAE7WXTEu9D6"
      },
      "outputs": [],
      "source": [
        "# transpiled_circuit_montreal.draw()"
      ]
    },
    {
      "cell_type": "code",
      "execution_count": null,
      "metadata": {
        "id": "N07NxtUru-1B"
      },
      "outputs": [],
      "source": [
        "# Create an estimator for the ground state energy, using the specified shots\n",
        "# and the noise model.\n",
        "# Skip transpilation as we've already transpiled our circuit onto the system\n",
        "# model.\n",
        "estimator = Estimator(\n",
        "    backend_options = {\n",
        "        'method': 'statevector',\n",
        "        'device': 'CPU',\n",
        "        'noise_model': noise_modelreal\n",
        "    },\n",
        "    run_options = {\n",
        "        'shots': shots,\n",
        "        'seed': seed,\n",
        "    },\n",
        "    skip_transpilation=True\n",
        ")"
      ]
    },
    {
      "cell_type": "code",
      "execution_count": null,
      "metadata": {
        "id": "2uubacOLvDV0"
      },
      "outputs": [],
      "source": [
        "# Run the estimator to obtain the ground state energy.\n",
        "job = estimator.run(transpiled_circuit_montreal,observable)\n",
        "result = job.result()\n",
        "print(f\">>> {result}\")"
      ]
    },
    {
      "cell_type": "code",
      "execution_count": null,
      "metadata": {
        "colab": {
          "base_uri": "https://localhost:8080/",
          "height": 245
        },
        "id": "9U1bpzQevFOc",
        "outputId": "0a5c6452-0c07-4525-9da5-266c1f7944d9"
      },
      "outputs": [],
      "source": [
        "# Set the computed energy and the nuclear repulsion energy.\n",
        "res_computeden = result.values[0]\n",
        "# The nuclear repulsion energy is a constant based on the input\n",
        "# molecule.\n",
        "res_nuc_repulen = qmolecule.nuclear_repulsion_energy\n",
        "\n",
        "# print(res_computeden)\n",
        "# print(res_nuc_repulen)"
      ]
    },
    {
      "cell_type": "code",
      "execution_count": null,
      "metadata": {
        "id": "4DLjQsLlvM-g"
      },
      "outputs": [],
      "source": [
        "# Compute the accuracy between the observed energy and the reference energy.\n",
        "result_energy = res_computeden + res_nuc_repulen\n",
        "accuracy_score = (1 - abs((result_energy - ref_value_float) / ref_value_float)) * 100\n",
        "print(\"Accuracy Score: %f%%\" % (accuracy_score))"
      ]
    },
    {
      "cell_type": "markdown",
      "metadata": {
        "id": "hIw0Xo4aW9pU"
      },
      "source": [
        "### Obtain the Duration of the Final Circuit\n",
        "Here, we use the 'pulse' module from Qiskit to obtain the duration of the\n",
        "quantum circuit in terms of the time resolution of the system model."
      ]
    },
    {
      "cell_type": "code",
      "execution_count": null,
      "metadata": {
        "id": "-rIRYUB8vRPS"
      },
      "outputs": [],
      "source": [
        "from qiskit import pulse"
      ]
    },
    {
      "cell_type": "code",
      "execution_count": null,
      "metadata": {
        "id": "hcRb__KEvRWZ"
      },
      "outputs": [],
      "source": [
        "# Build a pulse schedule for the quantum circuit on the specified\n",
        "# system model\n",
        "with pulse.build(system_model) as my_program1:\n",
        "  with pulse.transpiler_settings(optimization_level=0):\n",
        "    pulse.call(transpiled_circuit_montreal)"
      ]
    },
    {
      "cell_type": "code",
      "execution_count": null,
      "metadata": {
        "id": "mrhWezDtvS_l"
      },
      "outputs": [],
      "source": [
        "# Print the duration of the quantum circuit\n",
        "my_program1.duration"
      ]
    },
    {
      "cell_type": "code",
      "execution_count": null,
      "metadata": {
        "id": "wcmypOgovT6V"
      },
      "outputs": [],
      "source": [
        "# Print the final transpiled circuit.\n",
        "transpiled_circuit_montreal.qasm()"
      ]
    }
  ],
  "metadata": {
    "colab": {
      "provenance": []
    },
    "kernelspec": {
      "display_name": "Python 3",
      "name": "python3"
    },
    "language_info": {
      "name": "python"
    }
  },
  "nbformat": 4,
  "nbformat_minor": 0
}
